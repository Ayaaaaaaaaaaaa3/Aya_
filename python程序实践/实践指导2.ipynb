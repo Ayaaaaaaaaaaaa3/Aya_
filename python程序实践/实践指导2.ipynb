{
 "cells": [
  {
   "cell_type": "markdown",
   "metadata": {},
   "source": [
    "***<code>2.1 函数的定义与调用</code>***\n",
    "\n",
    "**编写函数，练习参数传递和返回值**\n",
    "\n",
    "***示例1：计算阶乘***\n",
    "\n",
    "**目标**：计算n的阶乘，即n! = 1 * 2 * 3 * ... * n\n",
    "\n",
    "**输入**：一个整数n\n",
    "\n",
    "**输出**：一个整数，即n的阶乘\n",
    "\n",
    "**函数描述**：定义一个函数`factorial(n)`，计算n的阶乘，返回结果。\n",
    "\n",
    "**实现步骤**：\n",
    "\n",
    "1. 定义一个变量`result`，初始化为1\n",
    "2. 从1到n遍历，每次将`result`乘以当前的数\n",
    "3. 返回`result`\n",
    "\n",
    "\n",
    "```python\n",
    "def factorial(n):\n",
    "    result = 1\n",
    "    for i in range(1, n + 1):\n",
    "        result *= i\n",
    "    return result\n",
    "\n",
    "n = 5\n",
    "print(factorial(n))\n",
    "```\n",
    "\n",
    "***示例2：计算最大公约数***\n",
    "\n",
    "```python\n",
    "def gcd(a, b):\n",
    "    while b:\n",
    "        a, b = b, a % b\n",
    "    return a\n",
    "\n",
    "a, b = 12, 18\n",
    "print(gcd(a, b))\n",
    "```\n",
    "\n",
    "***示例3：计算最小公倍数***\n",
    "\n",
    "```python\n",
    "def lcm(a, b):\n",
    "    return a * b // gcd(a, b)\n",
    "\n",
    "a, b = 12, 18\n",
    "print(lcm(a, b))\n",
    "```\n",
    "\n",
    "***示例4：判断素数***\n",
    "\n",
    "```python\n",
    "def is_prime(n):\n",
    "    if n < 2:\n",
    "        return False\n",
    "    for i in range(2, int(n ** 0.5) + 1):\n",
    "        if n % i == 0:\n",
    "            return False\n",
    "    return True\n",
    "\n",
    "n = 17\n",
    "print(is_prime(n))\n",
    "```\n",
    "\n",
    "***示例5：判断回文数***\n",
    "\n",
    "```python\n",
    "def is_palindrome(n):\n",
    "    return str(n) == str(n)[::-1]\n",
    "\n",
    "n = 12321\n",
    "print(is_palindrome(n))\n",
    "```\n",
    "\n",
    "***示例6：判断闰年***\n",
    "\n",
    "```python\n",
    "def is_leap_year(year):\n",
    "    return year % 4 == 0 and year % 100 != 0 or year % 400 == 0\n",
    "\n",
    "year = 2020\n",
    "print(is_leap_year(year))\n",
    "```\n",
    "\n",
    "***示例7：计算斐波那契数列***\n",
    "\n",
    "\n",
    "```python\n",
    "def fibonacci(n):\n",
    "    a, b = 0, 1\n",
    "    for _ in range(n):\n",
    "        a, b = b, a + b\n",
    "    return a\n",
    "\n",
    "n = 10\n",
    "print(fibonacci(n))\n",
    "```"
   ]
  },
  {
   "cell_type": "markdown",
   "metadata": {},
   "source": [
    "**2.2 模块与包**\n",
    "\n",
    "**实践指导：创建和使用自定义模块与包**\n",
    "\n",
    "**示例：字符串处理模块**\n",
    "\n",
    "创建一个字符串处理的Python模块，我们将其命名为<code>string_utils.py</code>。这个模块将包含一些常用的字符串处理函数，例如反转字符串、检查字符串是否为回文、将字符串转换为大写和小写等。\n",
    "\n",
    "**创建模块**"
   ]
  },
  {
   "cell_type": "code",
   "execution_count": null,
   "metadata": {},
   "outputs": [],
   "source": [
    "# string_utils.py\n",
    "\n",
    "def reverse_string(s):\n",
    "    \"\"\"反转字符串\"\"\"\n",
    "    return s[::-1]\n",
    "\n",
    "def is_palindrome(s):\n",
    "    \"\"\"检查字符串是否为回文\"\"\"\n",
    "    return s == s[::-1]\n",
    "\n",
    "def to_upper(s):\n",
    "    \"\"\"将字符串转换为大写\"\"\"\n",
    "    return s.upper()\n",
    "\n",
    "def to_lower(s):\n",
    "    \"\"\"将字符串转换为小写\"\"\"\n",
    "    return s.lower()"
   ]
  },
  {
   "cell_type": "markdown",
   "metadata": {},
   "source": [
    "**使用模块**\n",
    "\n",
    "在同一目录下创建另一个Python文件，比如<code>use_string_utils.py</code>，然后导入并使用<code>string_utils</code>模块。"
   ]
  },
  {
   "cell_type": "code",
   "execution_count": null,
   "metadata": {},
   "outputs": [],
   "source": [
    "# use_string_utils.py\n",
    "import string_utils\n",
    "\n",
    "# 使用模块中的函数\n",
    "original_string = \"Madam\"\n",
    "reversed_string = string_utils.reverse_string(original_string)\n",
    "print(f\"Original: {original_string}, Reversed: {reversed_string}\")\n",
    "\n",
    "# 检查是否为回文\n",
    "print(f\"Is '{original_string}' a palindrome? {string_utils.is_palindrome(original_string)}\")\n",
    "\n",
    "# 转换为大写\n",
    "print(f\"Upper: {string_utils.to_upper(original_string)}\")\n",
    "\n",
    "# 转换为小写\n",
    "print(f\"Lower: {string_utils.to_lower(original_string)}\")"
   ]
  },
  {
   "cell_type": "markdown",
   "metadata": {},
   "source": [
    "确保<code>string_utils.py</code>和<code>use_string_utils.py</code>位于同一目录下，然后运行<code>use_string_utils.py</code>。这将展示如何从自定义模块中导入和使用函数，以及如何组织和重用代码。"
   ]
  },
  {
   "cell_type": "markdown",
   "metadata": {},
   "source": [
    "**2.3 文件操作**\n",
    "\n",
    "**实践指导：完成文件操作的练习**\n",
    "\n",
    "**练习题：读取配置文件**\n",
    "\n",
    "**目标**：编写一个Python脚本，用于读取一个简单的配置文件，并将配置项以字典的形式存储。\n",
    "\n",
    "配置文件示例(<code>config.txt</code>)："
   ]
  },
  {
   "cell_type": "code",
   "execution_count": null,
   "metadata": {
    "vscode": {
     "languageId": "latex"
    }
   },
   "outputs": [],
   "source": [
    "# 这是一个配置文件示例\n",
    "host=localhost\n",
    "port=8080\n",
    "user=admin\n",
    "password=secret"
   ]
  },
  {
   "cell_type": "markdown",
   "metadata": {},
   "source": [
    "**要求：**\n",
    "\n",
    "1. 配置文件由多行组成，每行包含一个配置项。\n",
    "2. 每个配置项的格式为<code>key=value</code>。\n",
    "3. 忽略空行和以<code>#</code>开头的注释行。\n",
    "4. 将配置项存储在字典中，其中键是配置项的名称，值是配置项的值。\n",
    "\n",
    "**步骤：**\n",
    "\n",
    "1. 打开配置文件进行读取。\n",
    "2. 逐行遍历文件内容。\n",
    "3. 对于每行，检查是否为空行或注释行，如果是，则忽略。\n",
    "4. 对于配置项行，解析<code>key=value</code>，并将其添加到字典中。\n",
    "5. 打印最终的配置字典。\n",
    "\n",
    "**示例代码：**"
   ]
  },
  {
   "cell_type": "code",
   "execution_count": null,
   "metadata": {},
   "outputs": [],
   "source": [
    "# 定义一个空字典来存储配置项\n",
    "config_dict = {}\n",
    "\n",
    "# 使用with语句打开配置文件\n",
    "with open('config.txt', 'r') as file:\n",
    "    for line in file:\n",
    "        # 去除两端的空白字符\n",
    "        line = line.strip()\n",
    "        # 忽略空行和注释行\n",
    "        if line == '' or line.startswith('#'):\n",
    "            continue\n",
    "        # 解析配置项\n",
    "        if '=' in line:\n",
    "            key, value = line.split('=', 1)\n",
    "            config_dict[key] = value\n",
    "\n",
    "# 打印配置字典\n",
    "print(config_dict)"
   ]
  },
  {
   "cell_type": "markdown",
   "metadata": {},
   "source": [
    "**注意**：确保<code>config.txt</code>文件位于你的脚本同一目录下，或者提供正确的文件路径。这个练习将帮助你熟悉文件操作和字符串处理。"
   ]
  },
  {
   "cell_type": "markdown",
   "metadata": {},
   "source": []
  },
  {
   "cell_type": "markdown",
   "metadata": {},
   "source": [
    "**2.4 异常处理**\n",
    "\n",
    "**实践指导：完成异常处理的练习**\n",
    "\n",
    "**练习题：处理文件不存在、输入数据格式错误**\n",
    "\n",
    "**目标**：编写一个Python脚本，该脚本尝试读取一个文件，并从中解析整数。处理两种异常情况：文件不存在和数据格式错误。\n",
    "\n",
    "**任务描述**：\n",
    "\n",
    "1. 尝试打开一个名为<code>numbers.txt</code>的文件，该文件应包含一系列整数，每个整数占一行。\n",
    "2. 逐行读取文件，尝试将每行内容转换为整数，并计算所有整数的总和。\n",
    "3. 如果文件不存在，则捕获异常并打印一条友好的错误消息。\n",
    "4. 如果在转换数据时遇到格式错误（即某行不是有效的整数），则捕获异常并打印一条错误消息，指出无法解析的行。\n",
    "\n",
    "**示例代码**："
   ]
  },
  {
   "cell_type": "code",
   "execution_count": null,
   "metadata": {
    "vscode": {
     "languageId": "ini"
    }
   },
   "outputs": [],
   "source": [
    "def read_and_sum_integers(filename):\n",
    "    try:\n",
    "        total = 0\n",
    "        with open(filename, 'r') as file:\n",
    "            for line_number, line in enumerate(file, start=1):\n",
    "                try:\n",
    "                    number = int(line.strip())\n",
    "                    total += number\n",
    "                except ValueError:\n",
    "                    print(f\"数据格式错误：文件'{filename}'的第{line_number}行不是有效的整数。\")\n",
    "        print(f\"文件'{filename}'中所有整数的总和为：{total}\")\n",
    "    except FileNotFoundError:\n",
    "        print(f\"错误：文件'{filename}'未找到。\")\n",
    "\n",
    "# 调用函数，传入文件名\n",
    "read_and_sum_integers('numbers.txt')"
   ]
  },
  {
   "cell_type": "markdown",
   "metadata": {},
   "source": [
    "\n",
    "**注意**：\n",
    "\n",
    "- 确保在测试脚本之前创建一个名为<code>numbers.txt</code>的文件，并在其中填入一些整数和非整数值以测试脚本的异常处理能力。\n",
    "\n",
    "- 这个练习将帮助你熟悉异常处理机制，提高代码的健壮性和用户友好性。"
   ]
  },
  {
   "cell_type": "markdown",
   "metadata": {},
   "source": []
  }
 ],
 "metadata": {
  "language_info": {
   "name": "python"
  }
 },
 "nbformat": 4,
 "nbformat_minor": 2
}
